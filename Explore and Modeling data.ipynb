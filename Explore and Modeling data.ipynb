{
 "cells": [
  {
   "cell_type": "markdown",
   "id": "96a7bbf1",
   "metadata": {},
   "source": [
    "# Khám phá và mô hình hóa dữ liệu"
   ]
  },
  {
   "cell_type": "markdown",
   "id": "9e4cc9ee",
   "metadata": {},
   "source": [
    "## Import"
   ]
  },
  {
   "cell_type": "code",
   "execution_count": 1,
   "id": "8871aefb",
   "metadata": {},
   "outputs": [],
   "source": [
    "import pandas as pd\n",
    "import numpy as np\n",
    "import matplotlib.pyplot as plt\n",
    "import seaborn as sns\n",
    "from scipy.spatial.distance import cdist\n",
    "\n",
    "from sklearn.base import BaseEstimator, TransformerMixin\n",
    "from sklearn.preprocessing import StandardScaler, FunctionTransformer\n",
    "from sklearn.pipeline import Pipeline, make_pipeline\n",
    "from sklearn.cluster import KMeans\n",
    "from sklearn import set_config\n",
    "set_config(display='diagram')\n",
    "\n",
    "from datetime import datetime, timedelta\n",
    "import re"
   ]
  },
  {
   "cell_type": "markdown",
   "id": "ca2bd37a",
   "metadata": {},
   "source": [
    "## Setup toàn cục"
   ]
  },
  {
   "cell_type": "code",
   "execution_count": 2,
   "id": "27770fa5",
   "metadata": {},
   "outputs": [],
   "source": [
    "# Format cho ngày tháng năm\n",
    "date_format = '%Y-%m-%dT%H:%M:%SZ'\n",
    "dateparse = lambda x: datetime.strptime(x, date_format)\n",
    "\n",
    "# Ngày thu thập dữ liệu\n",
    "collect_date_str = '2021-08-30T15:00:00Z'\n",
    "collect_date = datetime.strptime(collect_date_str, date_format)\n",
    "\n",
    "# Format cho độ dài thời gian\n",
    "dura_format = 'PT%HH%MM%SS'"
   ]
  },
  {
   "cell_type": "markdown",
   "id": "49d2a45a",
   "metadata": {},
   "source": [
    "## Khám phá dữ liệu để tìm ra câu hỏi"
   ]
  },
  {
   "cell_type": "code",
   "execution_count": 3,
   "id": "0b0223e3",
   "metadata": {},
   "outputs": [
    {
     "data": {
      "text/html": [
       "<div>\n",
       "<style scoped>\n",
       "    .dataframe tbody tr th:only-of-type {\n",
       "        vertical-align: middle;\n",
       "    }\n",
       "\n",
       "    .dataframe tbody tr th {\n",
       "        vertical-align: top;\n",
       "    }\n",
       "\n",
       "    .dataframe thead th {\n",
       "        text-align: right;\n",
       "    }\n",
       "</style>\n",
       "<table border=\"1\" class=\"dataframe\">\n",
       "  <thead>\n",
       "    <tr style=\"text-align: right;\">\n",
       "      <th></th>\n",
       "      <th>title</th>\n",
       "      <th>publishedAt</th>\n",
       "      <th>thumbnailUrl</th>\n",
       "      <th>categoryId</th>\n",
       "      <th>defaultAudioLanguage</th>\n",
       "      <th>tags</th>\n",
       "      <th>viewCount</th>\n",
       "      <th>likeCount</th>\n",
       "      <th>dislikeCount</th>\n",
       "      <th>commentCount</th>\n",
       "      <th>...</th>\n",
       "      <th>publicStatsViewable</th>\n",
       "      <th>madeForKids</th>\n",
       "      <th>topicCategories</th>\n",
       "      <th>duration</th>\n",
       "      <th>dimension</th>\n",
       "      <th>definition</th>\n",
       "      <th>caption</th>\n",
       "      <th>licensedContent</th>\n",
       "      <th>contentRating</th>\n",
       "      <th>projection</th>\n",
       "    </tr>\n",
       "    <tr>\n",
       "      <th>id</th>\n",
       "      <th></th>\n",
       "      <th></th>\n",
       "      <th></th>\n",
       "      <th></th>\n",
       "      <th></th>\n",
       "      <th></th>\n",
       "      <th></th>\n",
       "      <th></th>\n",
       "      <th></th>\n",
       "      <th></th>\n",
       "      <th></th>\n",
       "      <th></th>\n",
       "      <th></th>\n",
       "      <th></th>\n",
       "      <th></th>\n",
       "      <th></th>\n",
       "      <th></th>\n",
       "      <th></th>\n",
       "      <th></th>\n",
       "      <th></th>\n",
       "      <th></th>\n",
       "    </tr>\n",
       "  </thead>\n",
       "  <tbody>\n",
       "    <tr>\n",
       "      <th>vuoaLan88i4</th>\n",
       "      <td>Making of Main Teri Mohabbat Mein /Jaane Jigar...</td>\n",
       "      <td>2021-08-29 09:42:39</td>\n",
       "      <td>https://i.ytimg.com/vi/vuoaLan88i4/default.jpg</td>\n",
       "      <td>10</td>\n",
       "      <td>hi</td>\n",
       "      <td>['hindi songs', '2021 hindi songs', 'new hindi...</td>\n",
       "      <td>218972</td>\n",
       "      <td>8079</td>\n",
       "      <td>592</td>\n",
       "      <td>1629</td>\n",
       "      <td>...</td>\n",
       "      <td>False</td>\n",
       "      <td>False</td>\n",
       "      <td>['https://en.wikipedia.org/wiki/Music', 'https...</td>\n",
       "      <td>PT1M34S</td>\n",
       "      <td>2d</td>\n",
       "      <td>hd</td>\n",
       "      <td>False</td>\n",
       "      <td>True</td>\n",
       "      <td>{}</td>\n",
       "      <td>rectangular</td>\n",
       "    </tr>\n",
       "    <tr>\n",
       "      <th>oxTJkkcqk7M</th>\n",
       "      <td>Aao Milo/Kya Mujhe Pyar Hai Teaser Ep10 |Sukri...</td>\n",
       "      <td>2021-08-28 07:30:03</td>\n",
       "      <td>https://i.ytimg.com/vi/oxTJkkcqk7M/default.jpg</td>\n",
       "      <td>10</td>\n",
       "      <td>hi</td>\n",
       "      <td>['hindi songs', '2021 hindi songs', 'new hindi...</td>\n",
       "      <td>306069</td>\n",
       "      <td>8679</td>\n",
       "      <td>414</td>\n",
       "      <td>1190</td>\n",
       "      <td>...</td>\n",
       "      <td>False</td>\n",
       "      <td>False</td>\n",
       "      <td>['https://en.wikipedia.org/wiki/Music', 'https...</td>\n",
       "      <td>PT19S</td>\n",
       "      <td>2d</td>\n",
       "      <td>hd</td>\n",
       "      <td>False</td>\n",
       "      <td>True</td>\n",
       "      <td>{}</td>\n",
       "      <td>rectangular</td>\n",
       "    </tr>\n",
       "    <tr>\n",
       "      <th>9qXBo2-rUHk</th>\n",
       "      <td>Janmashtami Celebrations | Audio Jukebox | Hap...</td>\n",
       "      <td>2021-08-28 03:58:39</td>\n",
       "      <td>https://i.ytimg.com/vi/9qXBo2-rUHk/default.jpg</td>\n",
       "      <td>10</td>\n",
       "      <td>hi</td>\n",
       "      <td>['krishan janmashtami', 'krishan bhajans', 'ja...</td>\n",
       "      <td>450907</td>\n",
       "      <td>28169</td>\n",
       "      <td>672</td>\n",
       "      <td>2857</td>\n",
       "      <td>...</td>\n",
       "      <td>False</td>\n",
       "      <td>False</td>\n",
       "      <td>['https://en.wikipedia.org/wiki/Music', 'https...</td>\n",
       "      <td>PT25M59S</td>\n",
       "      <td>2d</td>\n",
       "      <td>hd</td>\n",
       "      <td>False</td>\n",
       "      <td>True</td>\n",
       "      <td>{}</td>\n",
       "      <td>rectangular</td>\n",
       "    </tr>\n",
       "    <tr>\n",
       "      <th>_VR6rWWL-9g</th>\n",
       "      <td>Ladka Aaya Hai Dekhne | Movie Clip 1| Batti Gu...</td>\n",
       "      <td>2021-08-27 12:30:13</td>\n",
       "      <td>https://i.ytimg.com/vi/_VR6rWWL-9g/default.jpg</td>\n",
       "      <td>10</td>\n",
       "      <td>hi</td>\n",
       "      <td>['latest hindi songs', 'bollywood songs', 'son...</td>\n",
       "      <td>75708</td>\n",
       "      <td>1656</td>\n",
       "      <td>188</td>\n",
       "      <td>427</td>\n",
       "      <td>...</td>\n",
       "      <td>False</td>\n",
       "      <td>False</td>\n",
       "      <td>['https://en.wikipedia.org/wiki/Entertainment'...</td>\n",
       "      <td>PT4M17S</td>\n",
       "      <td>2d</td>\n",
       "      <td>hd</td>\n",
       "      <td>False</td>\n",
       "      <td>True</td>\n",
       "      <td>{}</td>\n",
       "      <td>rectangular</td>\n",
       "    </tr>\n",
       "    <tr>\n",
       "      <th>ZFUr3nN8GR8</th>\n",
       "      <td>TERI AANKHON MEIN Teaser ► THALAIVII | Kangana...</td>\n",
       "      <td>2021-08-27 11:30:05</td>\n",
       "      <td>https://i.ytimg.com/vi/ZFUr3nN8GR8/default.jpg</td>\n",
       "      <td>10</td>\n",
       "      <td>hi</td>\n",
       "      <td>['hindi songs', '2021 hindi songs', 'new hindi...</td>\n",
       "      <td>372334</td>\n",
       "      <td>11241</td>\n",
       "      <td>1305</td>\n",
       "      <td>1907</td>\n",
       "      <td>...</td>\n",
       "      <td>False</td>\n",
       "      <td>False</td>\n",
       "      <td>['https://en.wikipedia.org/wiki/Music']</td>\n",
       "      <td>PT29S</td>\n",
       "      <td>2d</td>\n",
       "      <td>hd</td>\n",
       "      <td>False</td>\n",
       "      <td>True</td>\n",
       "      <td>{}</td>\n",
       "      <td>rectangular</td>\n",
       "    </tr>\n",
       "  </tbody>\n",
       "</table>\n",
       "<p>5 rows × 24 columns</p>\n",
       "</div>"
      ],
      "text/plain": [
       "                                                         title  \\\n",
       "id                                                               \n",
       "vuoaLan88i4  Making of Main Teri Mohabbat Mein /Jaane Jigar...   \n",
       "oxTJkkcqk7M  Aao Milo/Kya Mujhe Pyar Hai Teaser Ep10 |Sukri...   \n",
       "9qXBo2-rUHk  Janmashtami Celebrations | Audio Jukebox | Hap...   \n",
       "_VR6rWWL-9g  Ladka Aaya Hai Dekhne | Movie Clip 1| Batti Gu...   \n",
       "ZFUr3nN8GR8  TERI AANKHON MEIN Teaser ► THALAIVII | Kangana...   \n",
       "\n",
       "                    publishedAt  \\\n",
       "id                                \n",
       "vuoaLan88i4 2021-08-29 09:42:39   \n",
       "oxTJkkcqk7M 2021-08-28 07:30:03   \n",
       "9qXBo2-rUHk 2021-08-28 03:58:39   \n",
       "_VR6rWWL-9g 2021-08-27 12:30:13   \n",
       "ZFUr3nN8GR8 2021-08-27 11:30:05   \n",
       "\n",
       "                                               thumbnailUrl  categoryId  \\\n",
       "id                                                                        \n",
       "vuoaLan88i4  https://i.ytimg.com/vi/vuoaLan88i4/default.jpg          10   \n",
       "oxTJkkcqk7M  https://i.ytimg.com/vi/oxTJkkcqk7M/default.jpg          10   \n",
       "9qXBo2-rUHk  https://i.ytimg.com/vi/9qXBo2-rUHk/default.jpg          10   \n",
       "_VR6rWWL-9g  https://i.ytimg.com/vi/_VR6rWWL-9g/default.jpg          10   \n",
       "ZFUr3nN8GR8  https://i.ytimg.com/vi/ZFUr3nN8GR8/default.jpg          10   \n",
       "\n",
       "            defaultAudioLanguage  \\\n",
       "id                                 \n",
       "vuoaLan88i4                   hi   \n",
       "oxTJkkcqk7M                   hi   \n",
       "9qXBo2-rUHk                   hi   \n",
       "_VR6rWWL-9g                   hi   \n",
       "ZFUr3nN8GR8                   hi   \n",
       "\n",
       "                                                          tags  viewCount  \\\n",
       "id                                                                          \n",
       "vuoaLan88i4  ['hindi songs', '2021 hindi songs', 'new hindi...     218972   \n",
       "oxTJkkcqk7M  ['hindi songs', '2021 hindi songs', 'new hindi...     306069   \n",
       "9qXBo2-rUHk  ['krishan janmashtami', 'krishan bhajans', 'ja...     450907   \n",
       "_VR6rWWL-9g  ['latest hindi songs', 'bollywood songs', 'son...      75708   \n",
       "ZFUr3nN8GR8  ['hindi songs', '2021 hindi songs', 'new hindi...     372334   \n",
       "\n",
       "             likeCount  dislikeCount  commentCount  ... publicStatsViewable  \\\n",
       "id                                                  ...                       \n",
       "vuoaLan88i4       8079           592          1629  ...               False   \n",
       "oxTJkkcqk7M       8679           414          1190  ...               False   \n",
       "9qXBo2-rUHk      28169           672          2857  ...               False   \n",
       "_VR6rWWL-9g       1656           188           427  ...               False   \n",
       "ZFUr3nN8GR8      11241          1305          1907  ...               False   \n",
       "\n",
       "            madeForKids                                    topicCategories  \\\n",
       "id                                                                           \n",
       "vuoaLan88i4       False  ['https://en.wikipedia.org/wiki/Music', 'https...   \n",
       "oxTJkkcqk7M       False  ['https://en.wikipedia.org/wiki/Music', 'https...   \n",
       "9qXBo2-rUHk       False  ['https://en.wikipedia.org/wiki/Music', 'https...   \n",
       "_VR6rWWL-9g       False  ['https://en.wikipedia.org/wiki/Entertainment'...   \n",
       "ZFUr3nN8GR8       False            ['https://en.wikipedia.org/wiki/Music']   \n",
       "\n",
       "             duration  dimension  definition caption licensedContent  \\\n",
       "id                                                                     \n",
       "vuoaLan88i4   PT1M34S         2d          hd   False            True   \n",
       "oxTJkkcqk7M     PT19S         2d          hd   False            True   \n",
       "9qXBo2-rUHk  PT25M59S         2d          hd   False            True   \n",
       "_VR6rWWL-9g   PT4M17S         2d          hd   False            True   \n",
       "ZFUr3nN8GR8     PT29S         2d          hd   False            True   \n",
       "\n",
       "            contentRating   projection  \n",
       "id                                      \n",
       "vuoaLan88i4            {}  rectangular  \n",
       "oxTJkkcqk7M            {}  rectangular  \n",
       "9qXBo2-rUHk            {}  rectangular  \n",
       "_VR6rWWL-9g            {}  rectangular  \n",
       "ZFUr3nN8GR8            {}  rectangular  \n",
       "\n",
       "[5 rows x 24 columns]"
      ]
     },
     "execution_count": 3,
     "metadata": {},
     "output_type": "execute_result"
    }
   ],
   "source": [
    "video_df = pd.read_csv('data/videos_data.csv', \n",
    "                       sep='\\t', \n",
    "                       parse_dates=['publishedAt'], # Phân tích thời gian cột 'publishedAt'\n",
    "                       date_parser=dateparse, \n",
    "                       index_col=0) # Chọn cột 'id' làm index\n",
    "video_df.head()"
   ]
  },
  {
   "cell_type": "markdown",
   "id": "11cc53fa",
   "metadata": {},
   "source": [
    "### Số dòng & cột"
   ]
  },
  {
   "cell_type": "code",
   "execution_count": 4,
   "id": "b299e506",
   "metadata": {},
   "outputs": [
    {
     "data": {
      "text/plain": [
       "(1001, 24)"
      ]
     },
     "execution_count": 4,
     "metadata": {},
     "output_type": "execute_result"
    }
   ],
   "source": [
    "video_df.shape"
   ]
  },
  {
   "cell_type": "markdown",
   "id": "f70ddd13",
   "metadata": {},
   "source": [
    "### Số dòng lặp lại"
   ]
  },
  {
   "cell_type": "code",
   "execution_count": 5,
   "id": "179bb785",
   "metadata": {},
   "outputs": [
    {
     "data": {
      "text/plain": [
       "0"
      ]
     },
     "execution_count": 5,
     "metadata": {},
     "output_type": "execute_result"
    }
   ],
   "source": [
    "video_df.index.duplicated().sum()"
   ]
  },
  {
   "cell_type": "markdown",
   "id": "dc3c22c2",
   "metadata": {},
   "source": [
    "### Mô tả dữ liệu"
   ]
  },
  {
   "cell_type": "code",
   "execution_count": 6,
   "id": "e00fe45c",
   "metadata": {},
   "outputs": [
    {
     "name": "stdout",
     "output_type": "stream",
     "text": [
      "The description is summarized from \"A video resource represents a YouTube video.\", which includes 5 parts of video resources: id, snippet, statistics, status, topicDetails, contentDetails.\n",
      "Link full: https://developers.google.com/youtube/v3/docs/videos\n",
      "\n",
      "* id: string\n",
      "The ID that YouTube uses to uniquely identify the video.\n",
      "\n",
      "---\n",
      "\n",
      "* snippet: The snippet object contains basic details about the video, such as its title, description, and category.\n",
      "\n",
      "- title: string\n",
      "The video's title.\n",
      "\n",
      "- publishedAt: datetime\n",
      "The date and time that the video was published. Note that this time might be different than the time that the video was uploaded. For example, if a video is uploaded as a private video and then made public at a later time, this property will specify the time that the video was made public. The value is specified in ISO 8601 format.\n",
      "\n",
      "- thumbnailUrl: string\n",
      "The default thumbnail image's URL.\n",
      "\n",
      "- categoryId: string\n",
      "The YouTube video category associated with the video.\n",
      "\n",
      "- defaultAudioLanguage: string\n",
      "The default_audio_language property specifies the language spoken in the video's default audio track.\n",
      "\n",
      "- tags: list\n",
      "A list of keyword tags associated with the video.\n",
      "\n",
      "---\n",
      "\n",
      "* statistics: The statistics object contains statistics about the video.\n",
      "\n",
      "- viewCount: unsigned long\n",
      "The number of times the video has been viewed.\n",
      "\n",
      "- likeCount: unsigned long\n",
      "The number of users who have indicated that they liked the video.\n",
      "\n",
      "- dislikeCount: unsigned long\n",
      "The default thumbnail image's URL.\n",
      "\n",
      "- commentCount: unsigned long\n",
      "The number of comments for the video.\n",
      "\n",
      "---\n",
      "\n",
      "* status: The status object contains information about the video's uploading, processing, and privacy statuses.\n",
      "\n",
      "- uploadStatus: string\n",
      "The status of the uploaded video.\n",
      "\n",
      "- privacyStatus: string\n",
      "The video's privacy status.\n",
      "\n",
      "- license: string\n",
      "The video's license.\n",
      "\n",
      "- embeddable: boolean\n",
      "This value indicates whether the video can be embedded on another website.\n",
      "\n",
      "- publicStatsViewable: boolean\n",
      "This value indicates whether the extended video statistics on the video's watch page are publicly viewable.\n",
      "\n",
      "- madeForKids: boolean\n",
      "This value indicates whether the video is designated as child-directed, and it contains the current \"made for kids\" status of the video.\n",
      "\n",
      "---\n",
      "\n",
      "* topicDetails: The topicDetails object encapsulates information about topics associated with the video.\n",
      "\n",
      "- topicCategories: list\n",
      "A list of Wikipedia URLs that provide a high-level description of the video's content.\n",
      "\n",
      "---\n",
      "\n",
      "* contentDetails: The contentDetails object contains information about the video content, including the length of the video and an indication of whether captions are available for the video.\n",
      "\n",
      "- duration: string\n",
      "The length of the video. The property value is an ISO 8601 duration.\n",
      "\n",
      "- dimension: string\n",
      "Indicates whether the video is available in 3D or in 2D.\n",
      "\n",
      "- definition: string\n",
      "Indicates whether the video is available in high definition (HD) or only in standard definition (SD).\n",
      "\n",
      "- caption: string\n",
      "Indicates whether captions are available for the video.\n",
      "\n",
      "- licensedContent: boolean\n",
      "Indicates whether the video represents licensed content, which means that the content was uploaded to a channel linked to a YouTube content partner and then claimed by that partner.\n",
      "\n",
      "- contentRating: object\n",
      "Specifies the ratings that the video received under various rating schemes.\n",
      "\n",
      "- projection: string\n",
      "Specifies the projection format of the video.\n"
     ]
    }
   ],
   "source": [
    "with open('data/videos_data_description.txt', 'r') as f:\n",
    "    print(f.read())"
   ]
  },
  {
   "cell_type": "markdown",
   "id": "82445067",
   "metadata": {},
   "source": [
    "## Câu hỏi\n",
    "\n",
    "Phân cụm các video để tìm ra xu hướng xem video của kênh T-Series của người dùng hiện nay.\n",
    "- **Input**: toàn bộ thông tin của video\n",
    "- **Output**: các nhóm và video của mỗi nhóm"
   ]
  },
  {
   "cell_type": "markdown",
   "id": "8071ec1a",
   "metadata": {},
   "source": [
    "## Khám phá để tiền xử lý dữ liệu"
   ]
  },
  {
   "cell_type": "code",
   "execution_count": 7,
   "id": "cb182860",
   "metadata": {},
   "outputs": [
    {
     "data": {
      "text/plain": [
       "title                           object\n",
       "publishedAt             datetime64[ns]\n",
       "thumbnailUrl                    object\n",
       "categoryId                       int64\n",
       "defaultAudioLanguage            object\n",
       "tags                            object\n",
       "viewCount                        int64\n",
       "likeCount                        int64\n",
       "dislikeCount                     int64\n",
       "commentCount                     int64\n",
       "uploadStatus                    object\n",
       "privacyStatus                   object\n",
       "license                         object\n",
       "embeddable                        bool\n",
       "publicStatsViewable               bool\n",
       "madeForKids                       bool\n",
       "topicCategories                 object\n",
       "duration                        object\n",
       "dimension                       object\n",
       "definition                      object\n",
       "caption                           bool\n",
       "licensedContent                   bool\n",
       "contentRating                   object\n",
       "projection                      object\n",
       "dtype: object"
      ]
     },
     "execution_count": 7,
     "metadata": {},
     "output_type": "execute_result"
    }
   ],
   "source": [
    "# Kiểu dữ liệu của các cột\n",
    "video_df.dtypes"
   ]
  },
  {
   "cell_type": "markdown",
   "id": "d75df460",
   "metadata": {},
   "source": [
    "### Các cột dạng số\n",
    "\n",
    "Ta dễ thấy các cột dạng số lần lượt là: `viewCount`, `likeCount`, `dislikeCount`, `commentCount`.\n",
    "\n",
    "Cột `categoryId` tuy là kiểu int64 nhưng là dạng categorical.\n",
    "\n",
    "Ngoài ra:\n",
    "- Cột `publishedAt` cần được chuyển thành số giây tính từ khi video được xuất bản đến ngày hiện tại khi thu thập dữ liệu, nhằm cân bằng các lượt xem, lượt thích... của các video có ngày xuất bản khác nhau. Lúc này ta đổi tên cột thành `publicPeriod` cho phù hợp.\n",
    "- Cột `duration` là độ dài video, được Youtube format theo ISO 8601, cũng cần chuyển thành dạng số, đơn vị là giây."
   ]
  },
  {
   "cell_type": "markdown",
   "id": "c12f9383",
   "metadata": {},
   "source": [
    "#### Tiền xử lý các cột dạng số\n",
    "\n",
    "Ta xây dựng các hàm `yt_publ_to_secs` và `yt_dura_to_secs` để xử lý các yêu cầu trên."
   ]
  },
  {
   "cell_type": "code",
   "execution_count": 8,
   "id": "13fe8e04",
   "metadata": {},
   "outputs": [],
   "source": [
    "def yt_publ_to_secs(X_df):\n",
    "    publ_to_secs_df = X_df.rename({'publishedAt': 'publicPeriod'}, axis=1)\n",
    "    for index in publ_to_secs_df.index:\n",
    "        total_sec = (collect_date - X_df.loc[index, 'publishedAt']).total_seconds()\n",
    "        publ_to_secs_df.loc[index, 'publicPeriod'] = round(total_sec / (60*60*24), 2)\n",
    "    return publ_to_secs_df"
   ]
  },
  {
   "cell_type": "markdown",
   "id": "2e836f8f",
   "metadata": {},
   "source": [
    "Hàm `yt_dura_to_secs` tham khảo từ: https://newbedev.com/how-to-convert-youtube-api-duration-to-seconds"
   ]
  },
  {
   "cell_type": "code",
   "execution_count": 9,
   "id": "be87f319",
   "metadata": {},
   "outputs": [],
   "source": [
    "# js-like parseInt\n",
    "# https://gist.github.com/douglasmiranda/2174255\n",
    "def _js_parseInt(string):\n",
    "    return int(''.join([x for x in string if x.isdigit()]))\n",
    "\n",
    "def yt_dura_to_secs(X_df):\n",
    "    dura_to_secs_df = X_df.copy()\n",
    "    for index in dura_to_secs_df.index:\n",
    "        match = re.match('PT(\\d+H)?(\\d+M)?(\\d+S)?', X_df.loc[index, 'duration']).groups()\n",
    "        hours = _js_parseInt(match[0]) if match[0] else 0\n",
    "        minutes = _js_parseInt(match[1]) if match[1] else 0\n",
    "        seconds = _js_parseInt(match[2]) if match[2] else 0\n",
    "        dura_to_secs_df.loc[index, 'duration'] = hours * 3600 + minutes * 60 + seconds\n",
    "    return dura_to_secs_df"
   ]
  },
  {
   "cell_type": "markdown",
   "id": "99e259ab",
   "metadata": {},
   "source": [
    "Sau đó, ta cần chuẩn hóa các cột mang tính cộng dồn theo thời gian thành dạng theo ngày. Ví dụ `viewCount` thành `viewPerDay`, nghĩa là lượt xem trung bình mỗi ngày. Sau đó, ta xóa cột `publicPeriod`.\n",
    "\n",
    "Hàm `convert_avg_per_day` sẽ thực hiện đồng thời việc tính số ngày public và chuẩn hóa theo ngày."
   ]
  },
  {
   "cell_type": "code",
   "execution_count": 10,
   "id": "d7ffc4ac",
   "metadata": {},
   "outputs": [],
   "source": [
    "def convert_nume_col(X_df):\n",
    "    publ_to_secs_df = yt_publ_to_secs(yt_dura_to_secs(X_df))\n",
    "    avg_per_day_df = publ_to_secs_df.rename({'viewCount': 'viewPerDay', \n",
    "                                             'likeCount': 'likePerDay', \n",
    "                                             'dislikeCount': 'dislikePerDay', \n",
    "                                             'commentCount': 'commentPerDay'}, axis=1)\n",
    "    avg_per_day_df.viewPerDay = (publ_to_secs_df.viewCount / \n",
    "                                 publ_to_secs_df.publicPeriod).apply(np.round)\n",
    "    avg_per_day_df.likePerDay = (publ_to_secs_df.likeCount / \n",
    "                                 publ_to_secs_df.publicPeriod).apply(np.round)\n",
    "    avg_per_day_df.dislikePerDay = (publ_to_secs_df.dislikeCount / \n",
    "                                    publ_to_secs_df.publicPeriod).apply(np.round)\n",
    "    avg_per_day_df.commentPerDay = (publ_to_secs_df.commentCount / \n",
    "                                    publ_to_secs_df.publicPeriod).apply(np.round)\n",
    "    avg_per_day_df = avg_per_day_df.drop('publicPeriod', axis=1)\n",
    "    return avg_per_day_df"
   ]
  },
  {
   "cell_type": "code",
   "execution_count": 11,
   "id": "26d67c71",
   "metadata": {},
   "outputs": [
    {
     "data": {
      "text/html": [
       "<div>\n",
       "<style scoped>\n",
       "    .dataframe tbody tr th:only-of-type {\n",
       "        vertical-align: middle;\n",
       "    }\n",
       "\n",
       "    .dataframe tbody tr th {\n",
       "        vertical-align: top;\n",
       "    }\n",
       "\n",
       "    .dataframe thead th {\n",
       "        text-align: right;\n",
       "    }\n",
       "</style>\n",
       "<table border=\"1\" class=\"dataframe\">\n",
       "  <thead>\n",
       "    <tr style=\"text-align: right;\">\n",
       "      <th></th>\n",
       "      <th>title</th>\n",
       "      <th>thumbnailUrl</th>\n",
       "      <th>categoryId</th>\n",
       "      <th>defaultAudioLanguage</th>\n",
       "      <th>tags</th>\n",
       "      <th>viewPerDay</th>\n",
       "      <th>likePerDay</th>\n",
       "      <th>dislikePerDay</th>\n",
       "      <th>commentPerDay</th>\n",
       "      <th>uploadStatus</th>\n",
       "      <th>...</th>\n",
       "      <th>publicStatsViewable</th>\n",
       "      <th>madeForKids</th>\n",
       "      <th>topicCategories</th>\n",
       "      <th>duration</th>\n",
       "      <th>dimension</th>\n",
       "      <th>definition</th>\n",
       "      <th>caption</th>\n",
       "      <th>licensedContent</th>\n",
       "      <th>contentRating</th>\n",
       "      <th>projection</th>\n",
       "    </tr>\n",
       "    <tr>\n",
       "      <th>id</th>\n",
       "      <th></th>\n",
       "      <th></th>\n",
       "      <th></th>\n",
       "      <th></th>\n",
       "      <th></th>\n",
       "      <th></th>\n",
       "      <th></th>\n",
       "      <th></th>\n",
       "      <th></th>\n",
       "      <th></th>\n",
       "      <th></th>\n",
       "      <th></th>\n",
       "      <th></th>\n",
       "      <th></th>\n",
       "      <th></th>\n",
       "      <th></th>\n",
       "      <th></th>\n",
       "      <th></th>\n",
       "      <th></th>\n",
       "      <th></th>\n",
       "      <th></th>\n",
       "    </tr>\n",
       "  </thead>\n",
       "  <tbody>\n",
       "    <tr>\n",
       "      <th>vuoaLan88i4</th>\n",
       "      <td>Making of Main Teri Mohabbat Mein /Jaane Jigar...</td>\n",
       "      <td>https://i.ytimg.com/vi/vuoaLan88i4/default.jpg</td>\n",
       "      <td>10</td>\n",
       "      <td>hi</td>\n",
       "      <td>['hindi songs', '2021 hindi songs', 'new hindi...</td>\n",
       "      <td>179485.0</td>\n",
       "      <td>6622.0</td>\n",
       "      <td>485.0</td>\n",
       "      <td>1335.0</td>\n",
       "      <td>processed</td>\n",
       "      <td>...</td>\n",
       "      <td>False</td>\n",
       "      <td>False</td>\n",
       "      <td>['https://en.wikipedia.org/wiki/Music', 'https...</td>\n",
       "      <td>94</td>\n",
       "      <td>2d</td>\n",
       "      <td>hd</td>\n",
       "      <td>False</td>\n",
       "      <td>True</td>\n",
       "      <td>{}</td>\n",
       "      <td>rectangular</td>\n",
       "    </tr>\n",
       "    <tr>\n",
       "      <th>oxTJkkcqk7M</th>\n",
       "      <td>Aao Milo/Kya Mujhe Pyar Hai Teaser Ep10 |Sukri...</td>\n",
       "      <td>https://i.ytimg.com/vi/oxTJkkcqk7M/default.jpg</td>\n",
       "      <td>10</td>\n",
       "      <td>hi</td>\n",
       "      <td>['hindi songs', '2021 hindi songs', 'new hindi...</td>\n",
       "      <td>132497.0</td>\n",
       "      <td>3757.0</td>\n",
       "      <td>179.0</td>\n",
       "      <td>515.0</td>\n",
       "      <td>processed</td>\n",
       "      <td>...</td>\n",
       "      <td>False</td>\n",
       "      <td>False</td>\n",
       "      <td>['https://en.wikipedia.org/wiki/Music', 'https...</td>\n",
       "      <td>19</td>\n",
       "      <td>2d</td>\n",
       "      <td>hd</td>\n",
       "      <td>False</td>\n",
       "      <td>True</td>\n",
       "      <td>{}</td>\n",
       "      <td>rectangular</td>\n",
       "    </tr>\n",
       "    <tr>\n",
       "      <th>9qXBo2-rUHk</th>\n",
       "      <td>Janmashtami Celebrations | Audio Jukebox | Hap...</td>\n",
       "      <td>https://i.ytimg.com/vi/9qXBo2-rUHk/default.jpg</td>\n",
       "      <td>10</td>\n",
       "      <td>hi</td>\n",
       "      <td>['krishan janmashtami', 'krishan bhajans', 'ja...</td>\n",
       "      <td>183296.0</td>\n",
       "      <td>11451.0</td>\n",
       "      <td>273.0</td>\n",
       "      <td>1161.0</td>\n",
       "      <td>processed</td>\n",
       "      <td>...</td>\n",
       "      <td>False</td>\n",
       "      <td>False</td>\n",
       "      <td>['https://en.wikipedia.org/wiki/Music', 'https...</td>\n",
       "      <td>1559</td>\n",
       "      <td>2d</td>\n",
       "      <td>hd</td>\n",
       "      <td>False</td>\n",
       "      <td>True</td>\n",
       "      <td>{}</td>\n",
       "      <td>rectangular</td>\n",
       "    </tr>\n",
       "    <tr>\n",
       "      <th>_VR6rWWL-9g</th>\n",
       "      <td>Ladka Aaya Hai Dekhne | Movie Clip 1| Batti Gu...</td>\n",
       "      <td>https://i.ytimg.com/vi/_VR6rWWL-9g/default.jpg</td>\n",
       "      <td>10</td>\n",
       "      <td>hi</td>\n",
       "      <td>['latest hindi songs', 'bollywood songs', 'son...</td>\n",
       "      <td>24422.0</td>\n",
       "      <td>534.0</td>\n",
       "      <td>61.0</td>\n",
       "      <td>138.0</td>\n",
       "      <td>processed</td>\n",
       "      <td>...</td>\n",
       "      <td>False</td>\n",
       "      <td>False</td>\n",
       "      <td>['https://en.wikipedia.org/wiki/Entertainment'...</td>\n",
       "      <td>257</td>\n",
       "      <td>2d</td>\n",
       "      <td>hd</td>\n",
       "      <td>False</td>\n",
       "      <td>True</td>\n",
       "      <td>{}</td>\n",
       "      <td>rectangular</td>\n",
       "    </tr>\n",
       "    <tr>\n",
       "      <th>ZFUr3nN8GR8</th>\n",
       "      <td>TERI AANKHON MEIN Teaser ► THALAIVII | Kangana...</td>\n",
       "      <td>https://i.ytimg.com/vi/ZFUr3nN8GR8/default.jpg</td>\n",
       "      <td>10</td>\n",
       "      <td>hi</td>\n",
       "      <td>['hindi songs', '2021 hindi songs', 'new hindi...</td>\n",
       "      <td>118201.0</td>\n",
       "      <td>3569.0</td>\n",
       "      <td>414.0</td>\n",
       "      <td>605.0</td>\n",
       "      <td>processed</td>\n",
       "      <td>...</td>\n",
       "      <td>False</td>\n",
       "      <td>False</td>\n",
       "      <td>['https://en.wikipedia.org/wiki/Music']</td>\n",
       "      <td>29</td>\n",
       "      <td>2d</td>\n",
       "      <td>hd</td>\n",
       "      <td>False</td>\n",
       "      <td>True</td>\n",
       "      <td>{}</td>\n",
       "      <td>rectangular</td>\n",
       "    </tr>\n",
       "  </tbody>\n",
       "</table>\n",
       "<p>5 rows × 23 columns</p>\n",
       "</div>"
      ],
      "text/plain": [
       "                                                         title  \\\n",
       "id                                                               \n",
       "vuoaLan88i4  Making of Main Teri Mohabbat Mein /Jaane Jigar...   \n",
       "oxTJkkcqk7M  Aao Milo/Kya Mujhe Pyar Hai Teaser Ep10 |Sukri...   \n",
       "9qXBo2-rUHk  Janmashtami Celebrations | Audio Jukebox | Hap...   \n",
       "_VR6rWWL-9g  Ladka Aaya Hai Dekhne | Movie Clip 1| Batti Gu...   \n",
       "ZFUr3nN8GR8  TERI AANKHON MEIN Teaser ► THALAIVII | Kangana...   \n",
       "\n",
       "                                               thumbnailUrl  categoryId  \\\n",
       "id                                                                        \n",
       "vuoaLan88i4  https://i.ytimg.com/vi/vuoaLan88i4/default.jpg          10   \n",
       "oxTJkkcqk7M  https://i.ytimg.com/vi/oxTJkkcqk7M/default.jpg          10   \n",
       "9qXBo2-rUHk  https://i.ytimg.com/vi/9qXBo2-rUHk/default.jpg          10   \n",
       "_VR6rWWL-9g  https://i.ytimg.com/vi/_VR6rWWL-9g/default.jpg          10   \n",
       "ZFUr3nN8GR8  https://i.ytimg.com/vi/ZFUr3nN8GR8/default.jpg          10   \n",
       "\n",
       "            defaultAudioLanguage  \\\n",
       "id                                 \n",
       "vuoaLan88i4                   hi   \n",
       "oxTJkkcqk7M                   hi   \n",
       "9qXBo2-rUHk                   hi   \n",
       "_VR6rWWL-9g                   hi   \n",
       "ZFUr3nN8GR8                   hi   \n",
       "\n",
       "                                                          tags  viewPerDay  \\\n",
       "id                                                                           \n",
       "vuoaLan88i4  ['hindi songs', '2021 hindi songs', 'new hindi...    179485.0   \n",
       "oxTJkkcqk7M  ['hindi songs', '2021 hindi songs', 'new hindi...    132497.0   \n",
       "9qXBo2-rUHk  ['krishan janmashtami', 'krishan bhajans', 'ja...    183296.0   \n",
       "_VR6rWWL-9g  ['latest hindi songs', 'bollywood songs', 'son...     24422.0   \n",
       "ZFUr3nN8GR8  ['hindi songs', '2021 hindi songs', 'new hindi...    118201.0   \n",
       "\n",
       "             likePerDay  dislikePerDay  commentPerDay uploadStatus  ...  \\\n",
       "id                                                                  ...   \n",
       "vuoaLan88i4      6622.0          485.0         1335.0    processed  ...   \n",
       "oxTJkkcqk7M      3757.0          179.0          515.0    processed  ...   \n",
       "9qXBo2-rUHk     11451.0          273.0         1161.0    processed  ...   \n",
       "_VR6rWWL-9g       534.0           61.0          138.0    processed  ...   \n",
       "ZFUr3nN8GR8      3569.0          414.0          605.0    processed  ...   \n",
       "\n",
       "            publicStatsViewable madeForKids  \\\n",
       "id                                            \n",
       "vuoaLan88i4               False       False   \n",
       "oxTJkkcqk7M               False       False   \n",
       "9qXBo2-rUHk               False       False   \n",
       "_VR6rWWL-9g               False       False   \n",
       "ZFUr3nN8GR8               False       False   \n",
       "\n",
       "                                               topicCategories  duration  \\\n",
       "id                                                                         \n",
       "vuoaLan88i4  ['https://en.wikipedia.org/wiki/Music', 'https...        94   \n",
       "oxTJkkcqk7M  ['https://en.wikipedia.org/wiki/Music', 'https...        19   \n",
       "9qXBo2-rUHk  ['https://en.wikipedia.org/wiki/Music', 'https...      1559   \n",
       "_VR6rWWL-9g  ['https://en.wikipedia.org/wiki/Entertainment'...       257   \n",
       "ZFUr3nN8GR8            ['https://en.wikipedia.org/wiki/Music']        29   \n",
       "\n",
       "             dimension definition caption licensedContent contentRating  \\\n",
       "id                                                                        \n",
       "vuoaLan88i4         2d         hd   False            True            {}   \n",
       "oxTJkkcqk7M         2d         hd   False            True            {}   \n",
       "9qXBo2-rUHk         2d         hd   False            True            {}   \n",
       "_VR6rWWL-9g         2d         hd   False            True            {}   \n",
       "ZFUr3nN8GR8         2d         hd   False            True            {}   \n",
       "\n",
       "              projection  \n",
       "id                        \n",
       "vuoaLan88i4  rectangular  \n",
       "oxTJkkcqk7M  rectangular  \n",
       "9qXBo2-rUHk  rectangular  \n",
       "_VR6rWWL-9g  rectangular  \n",
       "ZFUr3nN8GR8  rectangular  \n",
       "\n",
       "[5 rows x 23 columns]"
      ]
     },
     "execution_count": 11,
     "metadata": {},
     "output_type": "execute_result"
    }
   ],
   "source": [
    "# Kiểm tra việc chuyển đổi\n",
    "test_df = convert_nume_col(video_df)\n",
    "test_df.head()"
   ]
  },
  {
   "cell_type": "markdown",
   "id": "e4de07f6",
   "metadata": {},
   "source": [
    "#### Xem phân bố các cột dạng số"
   ]
  },
  {
   "cell_type": "code",
   "execution_count": 12,
   "id": "77544a06",
   "metadata": {},
   "outputs": [
    {
     "data": {
      "text/html": [
       "<div>\n",
       "<style scoped>\n",
       "    .dataframe tbody tr th:only-of-type {\n",
       "        vertical-align: middle;\n",
       "    }\n",
       "\n",
       "    .dataframe tbody tr th {\n",
       "        vertical-align: top;\n",
       "    }\n",
       "\n",
       "    .dataframe thead th {\n",
       "        text-align: right;\n",
       "    }\n",
       "</style>\n",
       "<table border=\"1\" class=\"dataframe\">\n",
       "  <thead>\n",
       "    <tr style=\"text-align: right;\">\n",
       "      <th></th>\n",
       "      <th>viewPerDay</th>\n",
       "      <th>likePerDay</th>\n",
       "      <th>dislikePerDay</th>\n",
       "      <th>commentPerDay</th>\n",
       "      <th>duration</th>\n",
       "    </tr>\n",
       "  </thead>\n",
       "  <tbody>\n",
       "    <tr>\n",
       "      <th>missing_percentage</th>\n",
       "      <td>0.0</td>\n",
       "      <td>0.0</td>\n",
       "      <td>0.0</td>\n",
       "      <td>0.0</td>\n",
       "      <td>0.0</td>\n",
       "    </tr>\n",
       "    <tr>\n",
       "      <th>min</th>\n",
       "      <td>107.0</td>\n",
       "      <td>2.0</td>\n",
       "      <td>0.0</td>\n",
       "      <td>0.0</td>\n",
       "      <td>10.0</td>\n",
       "    </tr>\n",
       "    <tr>\n",
       "      <th>median</th>\n",
       "      <td>3830.0</td>\n",
       "      <td>93.0</td>\n",
       "      <td>7.0</td>\n",
       "      <td>8.0</td>\n",
       "      <td>208.0</td>\n",
       "    </tr>\n",
       "    <tr>\n",
       "      <th>max</th>\n",
       "      <td>6951610.0</td>\n",
       "      <td>163700.0</td>\n",
       "      <td>4567.0</td>\n",
       "      <td>5507.0</td>\n",
       "      <td>4275.0</td>\n",
       "    </tr>\n",
       "  </tbody>\n",
       "</table>\n",
       "</div>"
      ],
      "text/plain": [
       "                    viewPerDay  likePerDay  dislikePerDay  commentPerDay  \\\n",
       "missing_percentage         0.0         0.0            0.0            0.0   \n",
       "min                      107.0         2.0            0.0            0.0   \n",
       "median                  3830.0        93.0            7.0            8.0   \n",
       "max                  6951610.0    163700.0         4567.0         5507.0   \n",
       "\n",
       "                    duration  \n",
       "missing_percentage       0.0  \n",
       "min                     10.0  \n",
       "median                 208.0  \n",
       "max                   4275.0  "
      ]
     },
     "execution_count": 12,
     "metadata": {},
     "output_type": "execute_result"
    }
   ],
   "source": [
    "nume_cols = ['viewPerDay', 'likePerDay', 'dislikePerDay', 'commentPerDay', 'duration']\n",
    "df = test_df[nume_cols]\n",
    "def missing_percentage(c):\n",
    "    return c.isna().mean() * 100\n",
    "def median(c):\n",
    "    return c.quantile(0.5)\n",
    "df.agg([missing_percentage, 'min', median, 'max'])"
   ]
  },
  {
   "cell_type": "markdown",
   "id": "6ff5d8de",
   "metadata": {},
   "source": [
    "Tương quan của các cột dạng số"
   ]
  },
  {
   "cell_type": "code",
   "execution_count": 13,
   "id": "64e0e637",
   "metadata": {},
   "outputs": [
    {
     "data": {
      "image/png": "[encoded data removed]",
      "text/plain": [
       "<Figure size 1440x1080 with 25 Axes>"
      ]
     },
     "metadata": {
      "needs_background": "light"
     },
     "output_type": "display_data"
    }
   ],
   "source": [
    "scaler = StandardScaler()\n",
    "pd.plotting.scatter_matrix(pd.DataFrame(scaler.fit_transform(df), \n",
    "                                        columns=df.columns), diagonal=\"kde\", figsize=(20, 15))\n",
    "plt.show()"
   ]
  },
  {
   "cell_type": "markdown",
   "id": "72b2a593",
   "metadata": {},
   "source": [
    "### Các cột không phải dạng số\n",
    "\n",
    "Tạm thời, ta chưa xét đến cột `title` và `thumbnailUrl`, mặc dù hai cột có ảnh hưởng đến lượt xem và cảm nhận ban đầu của người xem (clickbait).\n",
    "\n",
    "#### Phân bố các cột"
   ]
  },
  {
   "cell_type": "code",
   "execution_count": 14,
   "id": "bb878e1e",
   "metadata": {},
   "outputs": [
    {
     "data": {
      "text/html": [
       "<div>\n",
       "<style scoped>\n",
       "    .dataframe tbody tr th:only-of-type {\n",
       "        vertical-align: middle;\n",
       "    }\n",
       "\n",
       "    .dataframe tbody tr th {\n",
       "        vertical-align: top;\n",
       "    }\n",
       "\n",
       "    .dataframe thead th {\n",
       "        text-align: right;\n",
       "    }\n",
       "</style>\n",
       "<table border=\"1\" class=\"dataframe\">\n",
       "  <thead>\n",
       "    <tr style=\"text-align: right;\">\n",
       "      <th></th>\n",
       "      <th>madeForKids</th>\n",
       "      <th>defaultAudioLanguage</th>\n",
       "      <th>uploadStatus</th>\n",
       "      <th>definition</th>\n",
       "      <th>categoryId</th>\n",
       "      <th>topicCategories</th>\n",
       "      <th>license</th>\n",
       "      <th>privacyStatus</th>\n",
       "      <th>projection</th>\n",
       "      <th>contentRating</th>\n",
       "      <th>licensedContent</th>\n",
       "      <th>publicStatsViewable</th>\n",
       "      <th>dimension</th>\n",
       "      <th>caption</th>\n",
       "      <th>embeddable</th>\n",
       "      <th>tags</th>\n",
       "    </tr>\n",
       "  </thead>\n",
       "  <tbody>\n",
       "    <tr>\n",
       "      <th>missing_percentage</th>\n",
       "      <td>0.0</td>\n",
       "      <td>0.0</td>\n",
       "      <td>0.0</td>\n",
       "      <td>0.0</td>\n",
       "      <td>0.0</td>\n",
       "      <td>0.3996</td>\n",
       "      <td>0.0</td>\n",
       "      <td>0.0</td>\n",
       "      <td>0.0</td>\n",
       "      <td>0.0</td>\n",
       "      <td>0.0</td>\n",
       "      <td>0.0</td>\n",
       "      <td>0.0</td>\n",
       "      <td>0.0</td>\n",
       "      <td>0.0</td>\n",
       "      <td>0.699301</td>\n",
       "    </tr>\n",
       "    <tr>\n",
       "      <th>num_values</th>\n",
       "      <td>1</td>\n",
       "      <td>1</td>\n",
       "      <td>1</td>\n",
       "      <td>2</td>\n",
       "      <td>1</td>\n",
       "      <td>35</td>\n",
       "      <td>1</td>\n",
       "      <td>1</td>\n",
       "      <td>1</td>\n",
       "      <td>2</td>\n",
       "      <td>2</td>\n",
       "      <td>1</td>\n",
       "      <td>1</td>\n",
       "      <td>2</td>\n",
       "      <td>2</td>\n",
       "      <td>419</td>\n",
       "    </tr>\n",
       "    <tr>\n",
       "      <th>value_percentages</th>\n",
       "      <td>{False: 100.0}</td>\n",
       "      <td>{'hi': 100.0}</td>\n",
       "      <td>{'processed': 100.0}</td>\n",
       "      <td>{'hd': 99.9, 'sd': 0.1}</td>\n",
       "      <td>{10: 100.0}</td>\n",
       "      <td>{'['https://en.wikipedia.org/wiki/Music', 'https://en.wikipedia.org/wiki/Music_of_Asia']': 62.9,...</td>\n",
       "      <td>{'youtube': 100.0}</td>\n",
       "      <td>{'public': 100.0}</td>\n",
       "      <td>{'rectangular': 100.0}</td>\n",
       "      <td>{'{}': 99.9, '{'ytRating': 'ytAgeRestricted'}': 0.1}</td>\n",
       "      <td>{True: 96.3, False: 3.7}</td>\n",
       "      <td>{False: 100.0}</td>\n",
       "      <td>{'2d': 100.0}</td>\n",
       "      <td>{False: 99.7, True: 0.3}</td>\n",
       "      <td>{True: 93.3, False: 6.7}</td>\n",
       "      <td>{'['hindi songs', '2021 hindi songs', 'new hindi songs', '2021 new songs', 't-series', 'tseries'...</td>\n",
       "    </tr>\n",
       "  </tbody>\n",
       "</table>\n",
       "</div>"
      ],
      "text/plain": [
       "                       madeForKids defaultAudioLanguage          uploadStatus  \\\n",
       "missing_percentage             0.0                  0.0                   0.0   \n",
       "num_values                       1                    1                     1   \n",
       "value_percentages   {False: 100.0}        {'hi': 100.0}  {'processed': 100.0}   \n",
       "\n",
       "                                 definition   categoryId  \\\n",
       "missing_percentage                      0.0          0.0   \n",
       "num_values                                2            1   \n",
       "value_percentages   {'hd': 99.9, 'sd': 0.1}  {10: 100.0}   \n",
       "\n",
       "                                                                                                        topicCategories  \\\n",
       "missing_percentage                                                                                               0.3996   \n",
       "num_values                                                                                                           35   \n",
       "value_percentages   {'['https://en.wikipedia.org/wiki/Music', 'https://en.wikipedia.org/wiki/Music_of_Asia']': 62.9,...   \n",
       "\n",
       "                               license      privacyStatus  \\\n",
       "missing_percentage                 0.0                0.0   \n",
       "num_values                           1                  1   \n",
       "value_percentages   {'youtube': 100.0}  {'public': 100.0}   \n",
       "\n",
       "                                projection  \\\n",
       "missing_percentage                     0.0   \n",
       "num_values                               1   \n",
       "value_percentages   {'rectangular': 100.0}   \n",
       "\n",
       "                                                           contentRating  \\\n",
       "missing_percentage                                                   0.0   \n",
       "num_values                                                             2   \n",
       "value_percentages   {'{}': 99.9, '{'ytRating': 'ytAgeRestricted'}': 0.1}   \n",
       "\n",
       "                             licensedContent publicStatsViewable  \\\n",
       "missing_percentage                       0.0                 0.0   \n",
       "num_values                                 2                   1   \n",
       "value_percentages   {True: 96.3, False: 3.7}      {False: 100.0}   \n",
       "\n",
       "                        dimension                   caption  \\\n",
       "missing_percentage            0.0                       0.0   \n",
       "num_values                      1                         2   \n",
       "value_percentages   {'2d': 100.0}  {False: 99.7, True: 0.3}   \n",
       "\n",
       "                                  embeddable  \\\n",
       "missing_percentage                       0.0   \n",
       "num_values                                 2   \n",
       "value_percentages   {True: 93.3, False: 6.7}   \n",
       "\n",
       "                                                                                                                   tags  \n",
       "missing_percentage                                                                                             0.699301  \n",
       "num_values                                                                                                          419  \n",
       "value_percentages   {'['hindi songs', '2021 hindi songs', 'new hindi songs', '2021 new songs', 't-series', 'tseries'...  "
      ]
     },
     "execution_count": 14,
     "metadata": {},
     "output_type": "execute_result"
    }
   ],
   "source": [
    "pd.set_option('display.max_colwidth', 100) # Để nhìn rõ hơn\n",
    "cate_cols = list(set(test_df.columns) - set(nume_cols) - set(['title', 'thumbnailUrl']))\n",
    "df = test_df[cate_cols]\n",
    "def num_values(df):\n",
    "    return df.nunique()\n",
    "def value_percentages(c):\n",
    "    return dict((c.value_counts(normalize=True) * 100).round(1))\n",
    "df.agg([missing_percentage, num_values, value_percentages])"
   ]
  },
  {
   "cell_type": "markdown",
   "id": "00f76ddc",
   "metadata": {},
   "source": [
    "Như vậy, ta chỉ cần giữ lại các cột `tags`, `topicCategories` và `embeddable` để xử lý tiếp, vì các cột còn lại có phân bố rất giống nhau:\n",
    "- Cột `embeddable` có dạng bool nên ta không cần xử lý gì nữa."
   ]
  },
  {
   "cell_type": "code",
   "execution_count": 15,
   "id": "36fd8894",
   "metadata": {},
   "outputs": [
    {
     "data": {
      "text/plain": [
       "hindi songs                726\n",
       "bollywood songs            703\n",
       "new hindi songs            699\n",
       "tseries                    698\n",
       "hindi movie songs          694\n",
       "tseries songs              682\n",
       "film songs                 658\n",
       "new song                   655\n",
       "songs                       41\n",
       "tulsi kumar                 41\n",
       "latest songs                35\n",
       "tseries movies              34\n",
       "new songs                   32\n",
       "movie clip                  32\n",
       "jubin nautiyal new song     31\n",
       "bollywood movie clips       27\n",
       "clips movies                27\n",
       "official song               27\n",
       "movie clips bollywood       27\n",
       "hindi movie clips           27\n",
       "dtype: int64"
      ]
     },
     "execution_count": 15,
     "metadata": {},
     "output_type": "execute_result"
    }
   ],
   "source": [
    "# Xem phân bố các tags\n",
    "video_df['tags'].str.extractall(r\"'([a-zA-z\\s]+)\\'\").value_counts().head(20)"
   ]
  },
  {
   "cell_type": "markdown",
   "id": "5b7c1c1e",
   "metadata": {},
   "source": [
    "- Cột `tags`: tạm thời chưa xử lý vì các tags tương đối nhiều và phức tạp => có thể cần NLP."
   ]
  },
  {
   "cell_type": "code",
   "execution_count": 16,
   "id": "dd8a500a",
   "metadata": {},
   "outputs": [
    {
     "data": {
      "text/plain": [
       "Music                 763\n",
       "Music_of_Asia         706\n",
       "Entertainment         228\n",
       "Film                  215\n",
       "Pop_music              34\n",
       "Electronic_music       32\n",
       "Independent_music      27\n",
       "Television_program     11\n",
       "Hip_hop_music           8\n",
       "Performing_arts         5\n",
       "Society                 3\n",
       "Reggae                  1\n",
       "Rhythm_and_blues        1\n",
       "Soul_music              1\n",
       "dtype: int64"
      ]
     },
     "execution_count": 16,
     "metadata": {},
     "output_type": "execute_result"
    }
   ],
   "source": [
    "# Xem phân bố các topics\n",
    "video_df['topicCategories'].str.extractall(r\"wiki/([a-zA-z]+)\\'\").value_counts()"
   ]
  },
  {
   "cell_type": "markdown",
   "id": "c3bcb2cc",
   "metadata": {},
   "source": [
    "- Cột `topicCategories`: trong mỗi value cũng bao gồm rất nhiều topic, nên ta cần xem các topic này mang lại ý nghĩa gì. Ta cũng cần lược bỏ phần chuỗi không cần thiết."
   ]
  },
  {
   "cell_type": "markdown",
   "id": "935a1ff1",
   "metadata": {},
   "source": [
    "> Như vậy ta sẽ tùy chỉnh số lượng topic qua biến `num_top_topics` ở phần tiền xử lý tiếp theo."
   ]
  },
  {
   "cell_type": "markdown",
   "id": "520afd54",
   "metadata": {},
   "source": [
    "#### Tiền xử lý các cột không phải dạng số\n",
    "\n",
    "Tóm lại, trong class `ColAdderDropper` ta sẽ:\n",
    "- Bỏ các cột không cần thiết, chỉ giữ lại các cột `tags`, `topicCategories` và `embeddable`.\n",
    "- Cột `topicCategories` ta chọn `num_top_topics` số topic cần giữ lại."
   ]
  },
  {
   "cell_type": "code",
   "execution_count": 17,
   "id": "e8b684c4",
   "metadata": {},
   "outputs": [],
   "source": [
    "# Tham khảo từ code HW3\n",
    "class ColAdderDropper(BaseEstimator, TransformerMixin):\n",
    "    def __init__(self, num_top_topics=1):\n",
    "        self.num_top_topics = num_top_topics\n",
    "        \n",
    "    def fit(self, X_df, y=None):\n",
    "        topic_col = X_df.topicCategories.str.extractall(r\"wiki/([a-zA-z]+)\\'\")\n",
    "        self.topic_counts_ = topic_col.value_counts()\n",
    "        topics = list(self.topic_counts_.index)\n",
    "        self.top_topics_ = [item[0] for item in \n",
    "                            topics[:max(1, min(self.num_top_topics, len(topics)))]]\n",
    "        return self\n",
    "    def transform(self, X_df, y=None):\n",
    "        fewer_cols_X_df = X_df.drop(list(set(X_df.columns) - set(nume_cols + ['embeddable'])), \n",
    "                                         axis=1)\n",
    "        \n",
    "        # Handle topics                            \n",
    "        for topic in self.top_topics_:\n",
    "            fewer_cols_X_df[topic] = None\n",
    "            for index in fewer_cols_X_df.index:\n",
    "                if (X_df.topicCategories.loc[index] is not np.nan) and \\\n",
    "                (topic in X_df.topicCategories.loc[index]):\n",
    "                    fewer_cols_X_df.loc[index, topic] = 1\n",
    "                else:\n",
    "                    fewer_cols_X_df.loc[index, topic] = 0\n",
    "        return fewer_cols_X_df"
   ]
  },
  {
   "cell_type": "markdown",
   "id": "32a96aa7",
   "metadata": {},
   "source": [
    "Test xử lý cột dạng số + categorical"
   ]
  },
  {
   "cell_type": "code",
   "execution_count": 18,
   "id": "2d915e3c",
   "metadata": {},
   "outputs": [
    {
     "data": {
      "text/html": [
       "<div>\n",
       "<style scoped>\n",
       "    .dataframe tbody tr th:only-of-type {\n",
       "        vertical-align: middle;\n",
       "    }\n",
       "\n",
       "    .dataframe tbody tr th {\n",
       "        vertical-align: top;\n",
       "    }\n",
       "\n",
       "    .dataframe thead th {\n",
       "        text-align: right;\n",
       "    }\n",
       "</style>\n",
       "<table border=\"1\" class=\"dataframe\">\n",
       "  <thead>\n",
       "    <tr style=\"text-align: right;\">\n",
       "      <th></th>\n",
       "      <th>viewPerDay</th>\n",
       "      <th>likePerDay</th>\n",
       "      <th>dislikePerDay</th>\n",
       "      <th>commentPerDay</th>\n",
       "      <th>embeddable</th>\n",
       "      <th>duration</th>\n",
       "      <th>Music</th>\n",
       "    </tr>\n",
       "    <tr>\n",
       "      <th>id</th>\n",
       "      <th></th>\n",
       "      <th></th>\n",
       "      <th></th>\n",
       "      <th></th>\n",
       "      <th></th>\n",
       "      <th></th>\n",
       "      <th></th>\n",
       "    </tr>\n",
       "  </thead>\n",
       "  <tbody>\n",
       "    <tr>\n",
       "      <th>vuoaLan88i4</th>\n",
       "      <td>179485.0</td>\n",
       "      <td>6622.0</td>\n",
       "      <td>485.0</td>\n",
       "      <td>1335.0</td>\n",
       "      <td>True</td>\n",
       "      <td>94</td>\n",
       "      <td>1</td>\n",
       "    </tr>\n",
       "    <tr>\n",
       "      <th>oxTJkkcqk7M</th>\n",
       "      <td>132497.0</td>\n",
       "      <td>3757.0</td>\n",
       "      <td>179.0</td>\n",
       "      <td>515.0</td>\n",
       "      <td>True</td>\n",
       "      <td>19</td>\n",
       "      <td>1</td>\n",
       "    </tr>\n",
       "    <tr>\n",
       "      <th>9qXBo2-rUHk</th>\n",
       "      <td>183296.0</td>\n",
       "      <td>11451.0</td>\n",
       "      <td>273.0</td>\n",
       "      <td>1161.0</td>\n",
       "      <td>True</td>\n",
       "      <td>1559</td>\n",
       "      <td>1</td>\n",
       "    </tr>\n",
       "    <tr>\n",
       "      <th>_VR6rWWL-9g</th>\n",
       "      <td>24422.0</td>\n",
       "      <td>534.0</td>\n",
       "      <td>61.0</td>\n",
       "      <td>138.0</td>\n",
       "      <td>True</td>\n",
       "      <td>257</td>\n",
       "      <td>0</td>\n",
       "    </tr>\n",
       "    <tr>\n",
       "      <th>ZFUr3nN8GR8</th>\n",
       "      <td>118201.0</td>\n",
       "      <td>3569.0</td>\n",
       "      <td>414.0</td>\n",
       "      <td>605.0</td>\n",
       "      <td>True</td>\n",
       "      <td>29</td>\n",
       "      <td>1</td>\n",
       "    </tr>\n",
       "  </tbody>\n",
       "</table>\n",
       "</div>"
      ],
      "text/plain": [
       "             viewPerDay  likePerDay  dislikePerDay  commentPerDay  embeddable  \\\n",
       "id                                                                              \n",
       "vuoaLan88i4    179485.0      6622.0          485.0         1335.0        True   \n",
       "oxTJkkcqk7M    132497.0      3757.0          179.0          515.0        True   \n",
       "9qXBo2-rUHk    183296.0     11451.0          273.0         1161.0        True   \n",
       "_VR6rWWL-9g     24422.0       534.0           61.0          138.0        True   \n",
       "ZFUr3nN8GR8    118201.0      3569.0          414.0          605.0        True   \n",
       "\n",
       "            duration Music  \n",
       "id                          \n",
       "vuoaLan88i4       94     1  \n",
       "oxTJkkcqk7M       19     1  \n",
       "9qXBo2-rUHk     1559     1  \n",
       "_VR6rWWL-9g      257     0  \n",
       "ZFUr3nN8GR8       29     1  "
      ]
     },
     "execution_count": 18,
     "metadata": {},
     "output_type": "execute_result"
    }
   ],
   "source": [
    "# Xử lý cột dạng số\n",
    "nume_trans = FunctionTransformer(func=convert_nume_col)\n",
    "# Xử lý cột dạng categorical\n",
    "cate_trans = ColAdderDropper(num_top_topics=1)\n",
    "\n",
    "col_trans_pipeline = make_pipeline(nume_trans, cate_trans)\n",
    "test_df = col_trans_pipeline.fit_transform(video_df)\n",
    "test_df.head()"
   ]
  },
  {
   "cell_type": "markdown",
   "id": "07b1807c",
   "metadata": {},
   "source": [
    "### Tạo pipeline cho toàn bộ bước tiền xử lý"
   ]
  },
  {
   "cell_type": "code",
   "execution_count": 19,
   "id": "5fe54bd0",
   "metadata": {},
   "outputs": [],
   "source": [
    "# Chuẩn hóa\n",
    "scaler = StandardScaler()\n",
    "\n",
    "preprocess_pipeline = make_pipeline(col_trans_pipeline, scaler)"
   ]
  },
  {
   "cell_type": "markdown",
   "id": "4786fce4",
   "metadata": {},
   "source": [
    "## Sử dụng K-means để gom nhóm các videos\n",
    "\n",
    "### Tạo full pipeline cho mô hình"
   ]
  },
  {
   "cell_type": "code",
   "execution_count": 20,
   "id": "a2412575",
   "metadata": {},
   "outputs": [
    {
     "data": {
      "text/html": [
       "<style>#sk-550704cf-adfc-4230-88b8-cc587b269518 {color: black;background-color: white;}#sk-550704cf-adfc-4230-88b8-cc587b269518 pre{padding: 0;}#sk-550704cf-adfc-4230-88b8-cc587b269518 div.sk-toggleable {background-color: white;}#sk-550704cf-adfc-4230-88b8-cc587b269518 label.sk-toggleable__label {cursor: pointer;display: block;width: 100%;margin-bottom: 0;padding: 0.2em 0.3em;box-sizing: border-box;text-align: center;}#sk-550704cf-adfc-4230-88b8-cc587b269518 div.sk-toggleable__content {max-height: 0;max-width: 0;overflow: hidden;text-align: left;background-color: #f0f8ff;}#sk-550704cf-adfc-4230-88b8-cc587b269518 div.sk-toggleable__content pre {margin: 0.2em;color: black;border-radius: 0.25em;background-color: #f0f8ff;}#sk-550704cf-adfc-4230-88b8-cc587b269518 input.sk-toggleable__control:checked~div.sk-toggleable__content {max-height: 200px;max-width: 100%;overflow: auto;}#sk-550704cf-adfc-4230-88b8-cc587b269518 div.sk-estimator input.sk-toggleable__control:checked~label.sk-toggleable__label {background-color: #d4ebff;}#sk-550704cf-adfc-4230-88b8-cc587b269518 div.sk-label input.sk-toggleable__control:checked~label.sk-toggleable__label {background-color: #d4ebff;}#sk-550704cf-adfc-4230-88b8-cc587b269518 input.sk-hidden--visually {border: 0;clip: rect(1px 1px 1px 1px);clip: rect(1px, 1px, 1px, 1px);height: 1px;margin: -1px;overflow: hidden;padding: 0;position: absolute;width: 1px;}#sk-550704cf-adfc-4230-88b8-cc587b269518 div.sk-estimator {font-family: monospace;background-color: #f0f8ff;margin: 0.25em 0.25em;border: 1px dotted black;border-radius: 0.25em;box-sizing: border-box;}#sk-550704cf-adfc-4230-88b8-cc587b269518 div.sk-estimator:hover {background-color: #d4ebff;}#sk-550704cf-adfc-4230-88b8-cc587b269518 div.sk-parallel-item::after {content: \"\";width: 100%;border-bottom: 1px solid gray;flex-grow: 1;}#sk-550704cf-adfc-4230-88b8-cc587b269518 div.sk-label:hover label.sk-toggleable__label {background-color: #d4ebff;}#sk-550704cf-adfc-4230-88b8-cc587b269518 div.sk-serial::before {content: \"\";position: absolute;border-left: 1px solid gray;box-sizing: border-box;top: 2em;bottom: 0;left: 50%;}#sk-550704cf-adfc-4230-88b8-cc587b269518 div.sk-serial {display: flex;flex-direction: column;align-items: center;background-color: white;}#sk-550704cf-adfc-4230-88b8-cc587b269518 div.sk-item {z-index: 1;}#sk-550704cf-adfc-4230-88b8-cc587b269518 div.sk-parallel {display: flex;align-items: stretch;justify-content: center;background-color: white;}#sk-550704cf-adfc-4230-88b8-cc587b269518 div.sk-parallel-item {display: flex;flex-direction: column;position: relative;background-color: white;}#sk-550704cf-adfc-4230-88b8-cc587b269518 div.sk-parallel-item:first-child::after {align-self: flex-end;width: 50%;}#sk-550704cf-adfc-4230-88b8-cc587b269518 div.sk-parallel-item:last-child::after {align-self: flex-start;width: 50%;}#sk-550704cf-adfc-4230-88b8-cc587b269518 div.sk-parallel-item:only-child::after {width: 0;}#sk-550704cf-adfc-4230-88b8-cc587b269518 div.sk-dashed-wrapped {border: 1px dashed gray;margin: 0.2em;box-sizing: border-box;padding-bottom: 0.1em;background-color: white;position: relative;}#sk-550704cf-adfc-4230-88b8-cc587b269518 div.sk-label label {font-family: monospace;font-weight: bold;background-color: white;display: inline-block;line-height: 1.2em;}#sk-550704cf-adfc-4230-88b8-cc587b269518 div.sk-label-container {position: relative;z-index: 2;text-align: center;}#sk-550704cf-adfc-4230-88b8-cc587b269518 div.sk-container {display: inline-block;position: relative;}</style><div id=\"sk-550704cf-adfc-4230-88b8-cc587b269518\" class\"sk-top-container\"><div class=\"sk-container\"><div class=\"sk-item sk-dashed-wrapped\"><div class=\"sk-label-container\"><div class=\"sk-label sk-toggleable\"><input class=\"sk-toggleable__control sk-hidden--visually\" id=\"d862548b-906a-42b2-9890-87ea98408583\" type=\"checkbox\" ><label class=\"sk-toggleable__label\" for=\"d862548b-906a-42b2-9890-87ea98408583\">Pipeline</label><div class=\"sk-toggleable__content\"><pre>Pipeline(steps=[('pipeline',\n",
       "                 Pipeline(steps=[('pipeline',\n",
       "                                  Pipeline(steps=[('functiontransformer',\n",
       "                                                   FunctionTransformer(func=<function convert_nume_col at 0x0000024E85F70670>)),\n",
       "                                                  ('coladderdropper',\n",
       "                                                   ColAdderDropper())])),\n",
       "                                 ('standardscaler', StandardScaler())])),\n",
       "                ('kmeans', KMeans(n_clusters=10, random_state=0))])</pre></div></div></div><div class=\"sk-serial\"><div class=\"sk-item\"><div class=\"sk-label-container\"><div class=\"sk-label sk-toggleable\"><input class=\"sk-toggleable__control sk-hidden--visually\" id=\"52ace016-28a1-4836-aeb4-a912aa2afab7\" type=\"checkbox\" ><label class=\"sk-toggleable__label\" for=\"52ace016-28a1-4836-aeb4-a912aa2afab7\">pipeline: Pipeline</label><div class=\"sk-toggleable__content\"><pre>Pipeline(steps=[('pipeline',\n",
       "                 Pipeline(steps=[('functiontransformer',\n",
       "                                  FunctionTransformer(func=<function convert_nume_col at 0x0000024E85F70670>)),\n",
       "                                 ('coladderdropper', ColAdderDropper())])),\n",
       "                ('standardscaler', StandardScaler())])</pre></div></div></div><div class=\"sk-serial\"><div class=\"sk-item\"><div class=\"sk-label-container\"><div class=\"sk-label sk-toggleable\"><input class=\"sk-toggleable__control sk-hidden--visually\" id=\"1eeee586-d913-4af7-a3b4-9ad59b781044\" type=\"checkbox\" ><label class=\"sk-toggleable__label\" for=\"1eeee586-d913-4af7-a3b4-9ad59b781044\">pipeline: Pipeline</label><div class=\"sk-toggleable__content\"><pre>Pipeline(steps=[('functiontransformer',\n",
       "                 FunctionTransformer(func=<function convert_nume_col at 0x0000024E85F70670>)),\n",
       "                ('coladderdropper', ColAdderDropper())])</pre></div></div></div><div class=\"sk-serial\"><div class=\"sk-item\"><div class=\"sk-estimator sk-toggleable\"><input class=\"sk-toggleable__control sk-hidden--visually\" id=\"6a8c5d1b-11c0-4473-9f74-0bedd823dc98\" type=\"checkbox\" ><label class=\"sk-toggleable__label\" for=\"6a8c5d1b-11c0-4473-9f74-0bedd823dc98\">FunctionTransformer</label><div class=\"sk-toggleable__content\"><pre>FunctionTransformer(func=<function convert_nume_col at 0x0000024E85F70670>)</pre></div></div></div><div class=\"sk-item\"><div class=\"sk-estimator sk-toggleable\"><input class=\"sk-toggleable__control sk-hidden--visually\" id=\"79c6a5c1-aaff-4e08-a13b-fb67e63145f0\" type=\"checkbox\" ><label class=\"sk-toggleable__label\" for=\"79c6a5c1-aaff-4e08-a13b-fb67e63145f0\">ColAdderDropper</label><div class=\"sk-toggleable__content\"><pre>ColAdderDropper()</pre></div></div></div></div></div><div class=\"sk-item\"><div class=\"sk-estimator sk-toggleable\"><input class=\"sk-toggleable__control sk-hidden--visually\" id=\"6d94eda5-4d31-4f21-bd9e-56bfb0e95f5d\" type=\"checkbox\" ><label class=\"sk-toggleable__label\" for=\"6d94eda5-4d31-4f21-bd9e-56bfb0e95f5d\">StandardScaler</label><div class=\"sk-toggleable__content\"><pre>StandardScaler()</pre></div></div></div></div></div><div class=\"sk-item\"><div class=\"sk-estimator sk-toggleable\"><input class=\"sk-toggleable__control sk-hidden--visually\" id=\"ee39b7d3-ed2b-41a4-9097-b528be71295a\" type=\"checkbox\" ><label class=\"sk-toggleable__label\" for=\"ee39b7d3-ed2b-41a4-9097-b528be71295a\">KMeans</label><div class=\"sk-toggleable__content\"><pre>KMeans(n_clusters=10, random_state=0)</pre></div></div></div></div></div></div></div>"
      ],
      "text/plain": [
       "Pipeline(steps=[('pipeline',\n",
       "                 Pipeline(steps=[('pipeline',\n",
       "                                  Pipeline(steps=[('functiontransformer',\n",
       "                                                   FunctionTransformer(func=<function convert_nume_col at 0x0000024E85F70670>)),\n",
       "                                                  ('coladderdropper',\n",
       "                                                   ColAdderDropper())])),\n",
       "                                 ('standardscaler', StandardScaler())])),\n",
       "                ('kmeans', KMeans(n_clusters=10, random_state=0))])"
      ]
     },
     "execution_count": 20,
     "metadata": {},
     "output_type": "execute_result"
    }
   ],
   "source": [
    "# K-means model\n",
    "kmeans_model = KMeans(n_clusters=10, \n",
    "                      random_state=0)\n",
    "\n",
    "# Tạo pipeline cho toàn bộ mô hình\n",
    "full_pipeline = make_pipeline(preprocess_pipeline, kmeans_model)\n",
    "full_pipeline"
   ]
  },
  {
   "cell_type": "markdown",
   "id": "1c7b28a6",
   "metadata": {},
   "source": [
    "### Thử nghiệm để tìm ra số cluster phù hợp\n",
    "\n",
    "Ta dùng phương pháp Elbow, lần lượt thử nghiệm số k clusters để tìm ra số lượng cluster phù hợp (3->20).\n",
    "\n",
    "Tham khảo từ https://cafedev.vn/tu-hoc-ml-phuong-phap-elbow-cho-gia-tri-toi-uu-cua-k-trong-kmeans/"
   ]
  },
  {
   "cell_type": "code",
   "execution_count": 21,
   "id": "a97fadbf",
   "metadata": {},
   "outputs": [],
   "source": [
    "# Thử nghiệm các k cluster khác nhau\n",
    "list_n_clusters = [3, 5, 7, 10, 13, 15, 17, 20]\n",
    "distortions = [] \n",
    "inertias = [] \n",
    "mapping1 = {} \n",
    "mapping2 = {} \n",
    "\n",
    "prep_X = preprocess_pipeline.fit_transform(video_df)\n",
    "\n",
    "for k in list_n_clusters: \n",
    "    # Set lại param n_clusters \n",
    "    full_pipeline.set_params(kmeans__n_clusters=k)\n",
    "    full_pipeline.fit(video_df)\n",
    "    \n",
    "    # Tính các khoảng cách giữa các cluster và trong cùng một cluster\n",
    "    distortions.append(sum(np.min(cdist(prep_X, full_pipeline.named_steps['kmeans'].cluster_centers_, \n",
    "                      'euclidean'),axis=1)) / prep_X.shape[0]) \n",
    "    inertias.append(full_pipeline.named_steps['kmeans'].inertia_) \n",
    "  \n",
    "    mapping1[k] = sum(np.min(cdist(prep_X, full_pipeline.named_steps['kmeans'].cluster_centers_, \n",
    "                 'euclidean'),axis=1)) / prep_X.shape[0] \n",
    "    mapping2[k] = full_pipeline.named_steps['kmeans'].inertia_"
   ]
  },
  {
   "cell_type": "code",
   "execution_count": 22,
   "id": "fe093560",
   "metadata": {},
   "outputs": [
    {
     "data": {
      "image/png": "[encoded data removed]",
      "text/plain": [
       "<Figure size 432x288 with 1 Axes>"
      ]
     },
     "metadata": {
      "needs_background": "light"
     },
     "output_type": "display_data"
    }
   ],
   "source": [
    "# Trực quan hóa Elbow\n",
    "plt.plot(list_n_clusters, distortions, 'bx-') \n",
    "plt.xlabel('Values of k') \n",
    "plt.ylabel('Distortion') \n",
    "plt.title('The Elbow Method using Distortion') \n",
    "plt.show()"
   ]
  },
  {
   "cell_type": "markdown",
   "id": "81f782ab",
   "metadata": {},
   "source": [
    "> Vậy để số lượng cụm tối ưu, ta chọn giá trị tại \"khuỷu tay\" `k=7`."
   ]
  },
  {
   "cell_type": "markdown",
   "id": "4fb31ded",
   "metadata": {},
   "source": [
    "### Set lại giá trị k tốt nhất cho mô hình"
   ]
  },
  {
   "cell_type": "code",
   "execution_count": 23,
   "id": "e25552d7",
   "metadata": {},
   "outputs": [
    {
     "name": "stdout",
     "output_type": "stream",
     "text": [
      "Result for 7 clusters: \n",
      "0    666\n",
      "3    162\n",
      "4     66\n",
      "5     52\n",
      "6     45\n",
      "1      9\n",
      "2      1\n",
      "dtype: int64\n",
      "\n",
      "\n"
     ]
    }
   ],
   "source": [
    "k = 7 # Best k clusters\n",
    "\n",
    "full_pipeline.set_params(kmeans__n_clusters=k)\n",
    "preds = full_pipeline.fit_predict(video_df)\n",
    "\n",
    "print(f'Result for {k} clusters: ')\n",
    "print(pd.Series(preds).value_counts())\n",
    "print('\\n')"
   ]
  },
  {
   "cell_type": "markdown",
   "id": "a52189f2",
   "metadata": {},
   "source": [
    "### Trực quan hóa kết quả phân cụm"
   ]
  },
  {
   "cell_type": "code",
   "execution_count": 24,
   "id": "4e192323",
   "metadata": {},
   "outputs": [
    {
     "data": {
      "text/plain": [
       "<seaborn.axisgrid.FacetGrid at 0x24e87633e20>"
      ]
     },
     "execution_count": 24,
     "metadata": {},
     "output_type": "execute_result"
    },
    {
     "data": {
      "image/png": "[encoded data removed]",
      "text/plain": [
       "<Figure size 402.375x360 with 1 Axes>"
      ]
     },
     "metadata": {
      "needs_background": "light"
     },
     "output_type": "display_data"
    }
   ],
   "source": [
    "test_df = col_trans_pipeline.fit_transform(video_df)\n",
    "test_df['label'] = preds\n",
    "sns.lmplot(x=\"viewPerDay\", y=\"duration\", data=test_df, hue='label', fit_reg=False)"
   ]
  },
  {
   "cell_type": "markdown",
   "id": "ab0d5904",
   "metadata": {},
   "source": [
    "Như vậy để việc quan sát được tốt hơn, từ 7 cụm ta phân thành 3 nhóm để trực quan hóa kết quả:\n",
    "- Nhóm đa số: gồm cụm 0; chiếm 66.5% các video.\n",
    "- Nhóm giữa: gồm cụm 3, 4, 5 và 6; chiếm 32.5%.\n",
    "- Nhóm thiểu số: cụm 1 và 2."
   ]
  },
  {
   "cell_type": "code",
   "execution_count": 25,
   "id": "7045cb4d",
   "metadata": {},
   "outputs": [],
   "source": [
    "most_labels = [0]\n",
    "mid_labels = [3, 4, 5, 6]\n",
    "least_labels = [1, 2]"
   ]
  },
  {
   "cell_type": "markdown",
   "id": "b5ac2624",
   "metadata": {},
   "source": [
    "#### Nhóm đa số (label=0)"
   ]
  },
  {
   "cell_type": "code",
   "execution_count": 26,
   "id": "083d32ca",
   "metadata": {},
   "outputs": [],
   "source": [
    "most_df = test_df[test_df['label'].isin(most_labels)]"
   ]
  },
  {
   "cell_type": "markdown",
   "id": "77419790",
   "metadata": {},
   "source": [
    "Tương quan biến `viewPerDay` và `duration`."
   ]
  },
  {
   "cell_type": "code",
   "execution_count": 27,
   "id": "fae7af60",
   "metadata": {},
   "outputs": [
    {
     "data": {
      "text/plain": [
       "<seaborn.axisgrid.FacetGrid at 0x24e86b766a0>"
      ]
     },
     "execution_count": 27,
     "metadata": {},
     "output_type": "execute_result"
    },
    {
     "data": {
      "image/png": "[encoded data removed]",
      "text/plain": [
       "<Figure size 402.375x360 with 1 Axes>"
      ]
     },
     "metadata": {
      "needs_background": "light"
     },
     "output_type": "display_data"
    }
   ],
   "source": [
    "sns.lmplot(x=\"viewPerDay\", y=\"duration\", data=most_df, hue='label', fit_reg=False)"
   ]
  },
  {
   "cell_type": "markdown",
   "id": "1d9f7fb0",
   "metadata": {},
   "source": [
    "Tương quan biến `likePerDay` và `duration`."
   ]
  },
  {
   "cell_type": "code",
   "execution_count": 28,
   "id": "0650f4f8",
   "metadata": {},
   "outputs": [
    {
     "data": {
      "text/plain": [
       "<seaborn.axisgrid.FacetGrid at 0x24e86fd5790>"
      ]
     },
     "execution_count": 28,
     "metadata": {},
     "output_type": "execute_result"
    },
    {
     "data": {
      "image/png": "[encoded data removed]",
      "text/plain": [
       "<Figure size 402.375x360 with 1 Axes>"
      ]
     },
     "metadata": {
      "needs_background": "light"
     },
     "output_type": "display_data"
    }
   ],
   "source": [
    "sns.lmplot(x=\"likePerDay\", y=\"duration\", data=most_df, hue='label', fit_reg=False)"
   ]
  },
  {
   "cell_type": "markdown",
   "id": "a77e9c37",
   "metadata": {},
   "source": [
    "Tương quan biến `viewPerDay` và `Music`."
   ]
  },
  {
   "cell_type": "code",
   "execution_count": 29,
   "id": "3ee37a8c",
   "metadata": {},
   "outputs": [
    {
     "data": {
      "text/plain": [
       "<seaborn.axisgrid.FacetGrid at 0x24e86d17eb0>"
      ]
     },
     "execution_count": 29,
     "metadata": {},
     "output_type": "execute_result"
    },
    {
     "data": {
      "image/png": "[encoded data removed]",
      "text/plain": [
       "<Figure size 402.375x360 with 1 Axes>"
      ]
     },
     "metadata": {
      "needs_background": "light"
     },
     "output_type": "display_data"
    }
   ],
   "source": [
    "sns.lmplot(x=\"viewPerDay\", y=\"Music\", data=most_df, hue='label', fit_reg=False)"
   ]
  },
  {
   "cell_type": "markdown",
   "id": "b2017758",
   "metadata": {},
   "source": [
    "Trả lời câu hỏi:\n",
    "- Xu hướng video hiện tại của kênh T-Series là các video ca nhạc ngắn.\n",
    "- Lượt xem cao nhất ở các video có thời lượng 100-400s.\n",
    "- Một mảng khác mà kênh T-Series tập trung phát triển là các video cực ngắn, khoảng dưới 30s."
   ]
  },
  {
   "cell_type": "markdown",
   "id": "dba97e8e",
   "metadata": {},
   "source": [
    "#### Nhóm giữa (label=3,4,5,6)"
   ]
  },
  {
   "cell_type": "code",
   "execution_count": 30,
   "id": "97487c68",
   "metadata": {},
   "outputs": [
    {
     "data": {
      "text/plain": [
       "<seaborn.axisgrid.FacetGrid at 0x24e86d95f70>"
      ]
     },
     "execution_count": 30,
     "metadata": {},
     "output_type": "execute_result"
    },
    {
     "data": {
      "image/png": "[encoded data removed]",
      "text/plain": [
       "<Figure size 402.375x360 with 1 Axes>"
      ]
     },
     "metadata": {
      "needs_background": "light"
     },
     "output_type": "display_data"
    }
   ],
   "source": [
    "mid_df = test_df[test_df['label'].isin(mid_labels)]\n",
    "sns.lmplot(x=\"viewPerDay\", y=\"likePerDay\", data=mid_df, hue='label', fit_reg=False)"
   ]
  },
  {
   "cell_type": "code",
   "execution_count": 31,
   "id": "6928921d",
   "metadata": {},
   "outputs": [
    {
     "data": {
      "text/plain": [
       "<seaborn.axisgrid.FacetGrid at 0x24e86fbe8e0>"
      ]
     },
     "execution_count": 31,
     "metadata": {},
     "output_type": "execute_result"
    },
    {
     "data": {
      "image/png": "[encoded data removed]",
      "text/plain": [
       "<Figure size 402.375x360 with 1 Axes>"
      ]
     },
     "metadata": {
      "needs_background": "light"
     },
     "output_type": "display_data"
    }
   ],
   "source": [
    "sns.lmplot(x=\"viewPerDay\", y=\"duration\", data=mid_df, hue='label', fit_reg=False)"
   ]
  },
  {
   "cell_type": "code",
   "execution_count": 32,
   "id": "2fd547f7",
   "metadata": {},
   "outputs": [
    {
     "data": {
      "text/plain": [
       "<seaborn.axisgrid.FacetGrid at 0x24e86fa8040>"
      ]
     },
     "execution_count": 32,
     "metadata": {},
     "output_type": "execute_result"
    },
    {
     "data": {
      "image/png": "[encoded data removed]",
      "text/plain": [
       "<Figure size 402.375x360 with 1 Axes>"
      ]
     },
     "metadata": {
      "needs_background": "light"
     },
     "output_type": "display_data"
    }
   ],
   "source": [
    "sns.lmplot(x=\"viewPerDay\", y=\"Music\", data=mid_df, hue='label', fit_reg=False)"
   ]
  },
  {
   "cell_type": "markdown",
   "id": "e37d43e2",
   "metadata": {},
   "source": [
    "#### Nhóm thiểu số (label=5,6)"
   ]
  },
  {
   "cell_type": "code",
   "execution_count": 33,
   "id": "596a8ad6",
   "metadata": {},
   "outputs": [
    {
     "data": {
      "text/plain": [
       "<seaborn.axisgrid.FacetGrid at 0x24e871224c0>"
      ]
     },
     "execution_count": 33,
     "metadata": {},
     "output_type": "execute_result"
    },
    {
     "data": {
      "image/png": "[encoded data removed]",
      "text/plain": [
       "<Figure size 402.375x360 with 1 Axes>"
      ]
     },
     "metadata": {
      "needs_background": "light"
     },
     "output_type": "display_data"
    }
   ],
   "source": [
    "least_df = test_df[test_df['label'].isin(least_labels)]\n",
    "sns.lmplot(x=\"viewPerDay\", y=\"duration\", data=least_df, hue='label', fit_reg=False)"
   ]
  }
 ],
 "metadata": {
  "kernelspec": {
   "display_name": "Python 3 (ipykernel)",
   "language": "python",
   "name": "python3"
  },
  "language_info": {
   "codemirror_mode": {
    "name": "ipython",
    "version": 3
   },
   "file_extension": ".py",
   "mimetype": "text/x-python",
   "name": "python",
   "nbconvert_exporter": "python",
   "pygments_lexer": "ipython3",
   "version": "3.8.8"
  }
 },
 "nbformat": 4,
 "nbformat_minor": 5
}
